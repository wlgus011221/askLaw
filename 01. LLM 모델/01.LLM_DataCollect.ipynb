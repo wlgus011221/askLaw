{
 "cells": [
  {
   "cell_type": "markdown",
   "id": "56156705",
   "metadata": {},
   "source": [
    "반복문을 이용한 데이터 수집"
   ]
  },
  {
   "cell_type": "code",
   "execution_count": null,
   "id": "d6ab07d5",
   "metadata": {},
   "outputs": [],
   "source": [
    "import requests\n",
    "import json\n",
    "import pandas as pd\n",
    "from datasets import Dataset\n",
    "import huggingface_hub"
   ]
  },
  {
   "cell_type": "code",
   "execution_count": null,
   "id": "c0a1572a",
   "metadata": {},
   "outputs": [],
   "source": [
    "file_path = \"TL_span_extraction.json\"\n",
    "try:\n",
    "    # 파일 열고 내용 읽기\n",
    "    with open(file_path, \"r\", encoding=\"utf-8-sig\") as f:  # 적절한 인코딩 설정\n",
    "        original_data = json.load(f)\n",
    "        print(original_data)\n",
    "\n",
    "except Exception as e:\n",
    "    print(e)"
   ]
  },
  {
   "cell_type": "code",
   "execution_count": null,
   "id": "71fe805a",
   "metadata": {},
   "outputs": [],
   "source": [
    "# 원본데이터의 키 확인하기\n",
    "original_data.keys()"
   ]
  },
  {
   "cell_type": "code",
   "execution_count": null,
   "id": "0feb1854",
   "metadata": {},
   "outputs": [],
   "source": [
    "len( original_data[\"data\"] )"
   ]
  },
  {
   "cell_type": "code",
   "execution_count": null,
   "id": "a641ead7",
   "metadata": {},
   "outputs": [],
   "source": [
    "datas = original_data[\"data\"]\n",
    "datas"
   ]
  },
  {
   "cell_type": "code",
   "execution_count": null,
   "id": "5960ae1c",
   "metadata": {},
   "outputs": [],
   "source": [
    "# 파인튜닝을 위한 데이터 수집 리스트\n",
    "alpacaData = []\n",
    "columnList = []\n",
    "\n",
    "# RAG를 위한 원본 데이터 수집 리스트\n",
    "contextData = []\n",
    "columnList2 = []"
   ]
  },
  {
   "cell_type": "code",
   "execution_count": null,
   "id": "3fdccef1",
   "metadata": {},
   "outputs": [],
   "source": [
    "# 수집해야 하는 데이터\n",
    "targetClass = \"법률\""
   ]
  },
  {
   "cell_type": "code",
   "execution_count": null,
   "id": "cbf8c9ce",
   "metadata": {},
   "outputs": [],
   "source": [
    "for data in datas:\n",
    "    # 하나의 데이터 셋 내 주요 파라그래프 키 확인하기\n",
    "    data.keys()\n",
    "\n",
    "    if(targetClass in data[\"doc_class\"][\"class\"]):\n",
    "        columnList2=[]\n",
    "        columnList2.append(data[\"doc_id\"])\n",
    "        columnList2.append(data[\"doc_title\"])\n",
    "\n",
    "        for eachParagraph in data[\"paragraphs\"]:\n",
    "            columnList2.append(eachParagraph[\"context\"])\n",
    "            contextData.append(columnList2)\n",
    "\n",
    "            # 딕셔너리 구조의 키 중 주요 정보 키값으로 가져오기\n",
    "            qasDatas = eachParagraph[\"qas\"]\n",
    "\n",
    "            for qasData in qasDatas:\n",
    "                columnList = []\n",
    "                # 질문\n",
    "                columnList.append(qasData[\"question\"])\n",
    "\n",
    "                # 정답\n",
    "                columnList.append(qasData[\"answer\"][\"text\"])\n",
    "\n",
    "                # input\n",
    "                columnList.append(\"\")\n",
    "\n",
    "                # class\n",
    "                # columnList.append(data[\"doc_class\"][\"class\"])\n",
    "\n",
    "                alpacaData.append(columnList)\n",
    "\n",
    "\n",
    "### instrunction : 질문\n",
    "### output       : 정답\n",
    "### input        : 없음\n",
    "alpacaDf = pd.DataFrame(alpacaData)\n",
    "alpacaDf.columns = [\"instruction\", \"output\", \"input\"]\n",
    "\n",
    "contextDf = pd.DataFrame(contextData)\n",
    "contextDf.columns = [\"id\", \"title\", \"context\"]\n",
    "contextDf.to_csv(\"./context.csv\", index=False)"
   ]
  },
  {
   "cell_type": "code",
   "execution_count": null,
   "id": "144f6eb7",
   "metadata": {},
   "outputs": [],
   "source": [
    "alpacaDf.head(5)"
   ]
  },
  {
   "cell_type": "code",
   "execution_count": null,
   "id": "e3abc9b8",
   "metadata": {},
   "outputs": [],
   "source": [
    "print(len(alpacaData))\n",
    "print(len(contextDf))"
   ]
  },
  {
   "cell_type": "code",
   "execution_count": null,
   "id": "a234c219",
   "metadata": {},
   "outputs": [],
   "source": [
    "# DataFrame에서 하나의 값만 보기\n",
    "alpacaDf.loc[0,[\"instruction\"]].values"
   ]
  },
  {
   "cell_type": "code",
   "execution_count": null,
   "id": "454c9205",
   "metadata": {},
   "outputs": [],
   "source": [
    "# prompt: 허깅페이스 로그인 코드생성\n",
    "\n",
    "import os\n",
    "from huggingface_hub import login\n",
    "\n",
    "# Hugging Face Hub에 로그인합니다.\n",
    "login(token=\"hugginggace_token\")"
   ]
  },
  {
   "cell_type": "code",
   "execution_count": null,
   "id": "02c9b2e0",
   "metadata": {},
   "outputs": [],
   "source": [
    "dataset = Dataset.from_pandas(alpacaDf)"
   ]
  },
  {
   "cell_type": "code",
   "execution_count": null,
   "id": "202cad2c",
   "metadata": {},
   "outputs": [],
   "source": [
    "dataset.push_to_hub(\"limjh12/ko-law-alpaca\")"
   ]
  }
 ],
 "metadata": {
  "kernelspec": {
   "display_name": ".asklaw",
   "language": "python",
   "name": "python3"
  },
  "language_info": {
   "codemirror_mode": {
    "name": "ipython",
    "version": 3
   },
   "file_extension": ".py",
   "mimetype": "text/x-python",
   "name": "python",
   "nbconvert_exporter": "python",
   "pygments_lexer": "ipython3",
   "version": "3.11.9"
  }
 },
 "nbformat": 4,
 "nbformat_minor": 5
}
